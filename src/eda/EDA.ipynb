{
 "cells": [
  {
   "cell_type": "markdown",
   "id": "5888d2c3",
   "metadata": {},
   "source": [
    "# EDA Notebook"
   ]
  },
  {
   "cell_type": "code",
   "execution_count": 1,
   "id": "82b3aee9",
   "metadata": {},
   "outputs": [],
   "source": [
    "# imports\n",
    "import wandb\n",
    "import pandas as pd"
   ]
  },
  {
   "cell_type": "code",
   "execution_count": 2,
   "id": "20c1580a",
   "metadata": {},
   "outputs": [
    {
     "name": "stderr",
     "output_type": "stream",
     "text": [
      "\u001b[34m\u001b[1mwandb\u001b[0m: Currently logged in as: \u001b[33mfrizzles7\u001b[0m (use `wandb login --relogin` to force relogin)\n",
      "\u001b[34m\u001b[1mwandb\u001b[0m: wandb version 0.12.1 is available!  To upgrade, please run:\n",
      "\u001b[34m\u001b[1mwandb\u001b[0m:  $ pip install wandb --upgrade\n"
     ]
    },
    {
     "data": {
      "text/html": [
       "\n",
       "                Tracking run with wandb version 0.10.31<br/>\n",
       "                Syncing run <strong style=\"color:#cdcd00\">crimson-water-3</strong> to <a href=\"https://wandb.ai\" target=\"_blank\">Weights & Biases</a> <a href=\"https://docs.wandb.com/integrations/jupyter.html\" target=\"_blank\">(Documentation)</a>.<br/>\n",
       "                Project page: <a href=\"https://wandb.ai/frizzles7/nyc_airbnb\" target=\"_blank\">https://wandb.ai/frizzles7/nyc_airbnb</a><br/>\n",
       "                Run page: <a href=\"https://wandb.ai/frizzles7/nyc_airbnb/runs/1iud27x2\" target=\"_blank\">https://wandb.ai/frizzles7/nyc_airbnb/runs/1iud27x2</a><br/>\n",
       "                Run data is saved locally in <code>/home/megan/projects/nd0821-c2-build-model-workflow-starter/src/eda/wandb/run-20210901_193442-1iud27x2</code><br/><br/>\n",
       "            "
      ],
      "text/plain": [
       "<IPython.core.display.HTML object>"
      ]
     },
     "metadata": {},
     "output_type": "display_data"
    }
   ],
   "source": [
    "# fetch the sample.csv file from W&B and create a dataframe\n",
    "run = wandb.init(project=\"nyc_airbnb\", group=\"eda\", save_code=True)\n",
    "local_path = wandb.use_artifact(\"sample.csv:latest\").file()\n",
    "df = pd.read_csv(local_path)"
   ]
  },
  {
   "cell_type": "code",
   "execution_count": 3,
   "id": "0b909628",
   "metadata": {},
   "outputs": [
    {
     "data": {
      "application/vnd.jupyter.widget-view+json": {
       "model_id": "3873309502dc4852a6546d2fb7dfd00f",
       "version_major": 2,
       "version_minor": 0
      },
      "text/plain": [
       "Summarize dataset:   0%|          | 0/29 [00:00<?, ?it/s]"
      ]
     },
     "metadata": {},
     "output_type": "display_data"
    },
    {
     "data": {
      "application/vnd.jupyter.widget-view+json": {
       "model_id": "d37aeb93231b4785bc2938ff3746ee91",
       "version_major": 2,
       "version_minor": 0
      },
      "text/plain": [
       "Generate report structure:   0%|          | 0/1 [00:00<?, ?it/s]"
      ]
     },
     "metadata": {},
     "output_type": "display_data"
    },
    {
     "data": {
      "application/vnd.jupyter.widget-view+json": {
       "model_id": "",
       "version_major": 2,
       "version_minor": 0
      },
      "text/plain": [
       "Render widgets:   0%|          | 0/1 [00:00<?, ?it/s]"
      ]
     },
     "metadata": {},
     "output_type": "display_data"
    },
    {
     "data": {
      "application/vnd.jupyter.widget-view+json": {
       "model_id": "5e18fd410ff84ea29a875ef97a84d311",
       "version_major": 2,
       "version_minor": 0
      },
      "text/plain": [
       "VBox(children=(Tab(children=(Tab(children=(GridBox(children=(VBox(children=(GridspecLayout(children=(HTML(valu…"
      ]
     },
     "metadata": {},
     "output_type": "display_data"
    }
   ],
   "source": [
    "# create a profile\n",
    "import pandas_profiling\n",
    "\n",
    "profile = pandas_profiling.ProfileReport(df)\n",
    "profile.to_widgets()"
   ]
  },
  {
   "cell_type": "markdown",
   "id": "f51cc693",
   "metadata": {},
   "source": [
    "## Review of profile\n",
    "\n",
    "In the profile, I notice the following things:\n",
    "- there are no duplicate rows in the data\n",
    "- there are some missing values in last_review and reviews_per_month\n",
    "- there are a lot of zeros in number_of_reviews and availability_365\n",
    "\n",
    "Reviewing the individual columns, I note the following:\n",
    "- in neighbourhood_group, most observations are in Manhattan and Brooklyn\n",
    "- in prices, there a some zeros (free rooms?) and prices as high as 10,000 (that seems high, even for NYC)\n",
    "- in minimum_nights, the max is 1250, which is almost 3.5 years (also seems unreasonable)\n",
    "- in last_review, the data stored is a date, but this is currently stored as a string"
   ]
  },
  {
   "cell_type": "code",
   "execution_count": 4,
   "id": "437b0114",
   "metadata": {},
   "outputs": [],
   "source": [
    "# drop outliers on price\n",
    "# min and max prices provided by stakeholders of $10 and $350\n",
    "min_price = 10\n",
    "max_price = 350\n",
    "idx = df['price'].between(min_price, max_price)\n",
    "df = df[idx].copy()"
   ]
  },
  {
   "cell_type": "code",
   "execution_count": 5,
   "id": "08a364d0",
   "metadata": {},
   "outputs": [],
   "source": [
    "# convert last_review column from string to datetime\n",
    "df['last_review'] = pd.to_datetime(df['last_review'])"
   ]
  },
  {
   "cell_type": "code",
   "execution_count": 6,
   "id": "e7e392db",
   "metadata": {},
   "outputs": [],
   "source": [
    "# drop outliers on minimum_nights\n",
    "min_nights = 1\n",
    "max_nights = 100\n",
    "idx = df['minimum_nights'].between(min_nights, max_nights)\n",
    "df = df[idx].copy()"
   ]
  },
  {
   "cell_type": "code",
   "execution_count": 7,
   "id": "183df000",
   "metadata": {},
   "outputs": [
    {
     "name": "stdout",
     "output_type": "stream",
     "text": [
      "<class 'pandas.core.frame.DataFrame'>\n",
      "Int64Index: 18935 entries, 0 to 19999\n",
      "Data columns (total 16 columns):\n",
      " #   Column                          Non-Null Count  Dtype         \n",
      "---  ------                          --------------  -----         \n",
      " 0   id                              18935 non-null  int64         \n",
      " 1   name                            18928 non-null  object        \n",
      " 2   host_id                         18935 non-null  int64         \n",
      " 3   host_name                       18927 non-null  object        \n",
      " 4   neighbourhood_group             18935 non-null  object        \n",
      " 5   neighbourhood                   18935 non-null  object        \n",
      " 6   latitude                        18935 non-null  float64       \n",
      " 7   longitude                       18935 non-null  float64       \n",
      " 8   room_type                       18935 non-null  object        \n",
      " 9   price                           18935 non-null  int64         \n",
      " 10  minimum_nights                  18935 non-null  int64         \n",
      " 11  number_of_reviews               18935 non-null  int64         \n",
      " 12  last_review                     15207 non-null  datetime64[ns]\n",
      " 13  reviews_per_month               15207 non-null  float64       \n",
      " 14  calculated_host_listings_count  18935 non-null  int64         \n",
      " 15  availability_365                18935 non-null  int64         \n",
      "dtypes: datetime64[ns](1), float64(3), int64(7), object(5)\n",
      "memory usage: 2.5+ MB\n"
     ]
    }
   ],
   "source": [
    "# confirm issues have been resolved\n",
    "df.info()"
   ]
  },
  {
   "cell_type": "code",
   "execution_count": 8,
   "id": "b427b343",
   "metadata": {},
   "outputs": [
    {
     "data": {
      "text/html": [
       "<div>\n",
       "<style scoped>\n",
       "    .dataframe tbody tr th:only-of-type {\n",
       "        vertical-align: middle;\n",
       "    }\n",
       "\n",
       "    .dataframe tbody tr th {\n",
       "        vertical-align: top;\n",
       "    }\n",
       "\n",
       "    .dataframe thead th {\n",
       "        text-align: right;\n",
       "    }\n",
       "</style>\n",
       "<table border=\"1\" class=\"dataframe\">\n",
       "  <thead>\n",
       "    <tr style=\"text-align: right;\">\n",
       "      <th></th>\n",
       "      <th>id</th>\n",
       "      <th>host_id</th>\n",
       "      <th>latitude</th>\n",
       "      <th>longitude</th>\n",
       "      <th>price</th>\n",
       "      <th>minimum_nights</th>\n",
       "      <th>number_of_reviews</th>\n",
       "      <th>reviews_per_month</th>\n",
       "      <th>calculated_host_listings_count</th>\n",
       "      <th>availability_365</th>\n",
       "    </tr>\n",
       "  </thead>\n",
       "  <tbody>\n",
       "    <tr>\n",
       "      <th>count</th>\n",
       "      <td>1.893500e+04</td>\n",
       "      <td>1.893500e+04</td>\n",
       "      <td>18935.000000</td>\n",
       "      <td>18935.000000</td>\n",
       "      <td>18935.000000</td>\n",
       "      <td>18935.000000</td>\n",
       "      <td>18935.000000</td>\n",
       "      <td>15207.000000</td>\n",
       "      <td>18935.000000</td>\n",
       "      <td>18935.000000</td>\n",
       "    </tr>\n",
       "    <tr>\n",
       "      <th>mean</th>\n",
       "      <td>1.884672e+07</td>\n",
       "      <td>6.646012e+07</td>\n",
       "      <td>40.728054</td>\n",
       "      <td>-73.950770</td>\n",
       "      <td>122.298020</td>\n",
       "      <td>6.034117</td>\n",
       "      <td>23.840665</td>\n",
       "      <td>1.383227</td>\n",
       "      <td>6.570372</td>\n",
       "      <td>109.370848</td>\n",
       "    </tr>\n",
       "    <tr>\n",
       "      <th>std</th>\n",
       "      <td>1.096344e+07</td>\n",
       "      <td>7.783999e+07</td>\n",
       "      <td>0.055407</td>\n",
       "      <td>0.046863</td>\n",
       "      <td>71.509451</td>\n",
       "      <td>9.805422</td>\n",
       "      <td>45.508643</td>\n",
       "      <td>1.690770</td>\n",
       "      <td>31.120172</td>\n",
       "      <td>130.410700</td>\n",
       "    </tr>\n",
       "    <tr>\n",
       "      <th>min</th>\n",
       "      <td>2.539000e+03</td>\n",
       "      <td>2.571000e+03</td>\n",
       "      <td>40.508730</td>\n",
       "      <td>-74.239140</td>\n",
       "      <td>10.000000</td>\n",
       "      <td>1.000000</td>\n",
       "      <td>0.000000</td>\n",
       "      <td>0.010000</td>\n",
       "      <td>1.000000</td>\n",
       "      <td>0.000000</td>\n",
       "    </tr>\n",
       "    <tr>\n",
       "      <th>25%</th>\n",
       "      <td>9.371109e+06</td>\n",
       "      <td>7.763216e+06</td>\n",
       "      <td>40.688820</td>\n",
       "      <td>-73.981990</td>\n",
       "      <td>66.000000</td>\n",
       "      <td>1.000000</td>\n",
       "      <td>1.000000</td>\n",
       "      <td>0.190000</td>\n",
       "      <td>1.000000</td>\n",
       "      <td>0.000000</td>\n",
       "    </tr>\n",
       "    <tr>\n",
       "      <th>50%</th>\n",
       "      <td>1.941018e+07</td>\n",
       "      <td>3.052348e+07</td>\n",
       "      <td>40.721710</td>\n",
       "      <td>-73.954570</td>\n",
       "      <td>100.000000</td>\n",
       "      <td>2.000000</td>\n",
       "      <td>6.000000</td>\n",
       "      <td>0.730000</td>\n",
       "      <td>1.000000</td>\n",
       "      <td>39.000000</td>\n",
       "    </tr>\n",
       "    <tr>\n",
       "      <th>75%</th>\n",
       "      <td>2.891999e+07</td>\n",
       "      <td>1.048749e+08</td>\n",
       "      <td>40.763220</td>\n",
       "      <td>-73.934430</td>\n",
       "      <td>160.000000</td>\n",
       "      <td>5.000000</td>\n",
       "      <td>24.000000</td>\n",
       "      <td>2.010000</td>\n",
       "      <td>2.000000</td>\n",
       "      <td>218.000000</td>\n",
       "    </tr>\n",
       "    <tr>\n",
       "      <th>max</th>\n",
       "      <td>3.648561e+07</td>\n",
       "      <td>2.742733e+08</td>\n",
       "      <td>40.913060</td>\n",
       "      <td>-73.717950</td>\n",
       "      <td>350.000000</td>\n",
       "      <td>100.000000</td>\n",
       "      <td>607.000000</td>\n",
       "      <td>27.950000</td>\n",
       "      <td>327.000000</td>\n",
       "      <td>365.000000</td>\n",
       "    </tr>\n",
       "  </tbody>\n",
       "</table>\n",
       "</div>"
      ],
      "text/plain": [
       "                 id       host_id      latitude     longitude         price  \\\n",
       "count  1.893500e+04  1.893500e+04  18935.000000  18935.000000  18935.000000   \n",
       "mean   1.884672e+07  6.646012e+07     40.728054    -73.950770    122.298020   \n",
       "std    1.096344e+07  7.783999e+07      0.055407      0.046863     71.509451   \n",
       "min    2.539000e+03  2.571000e+03     40.508730    -74.239140     10.000000   \n",
       "25%    9.371109e+06  7.763216e+06     40.688820    -73.981990     66.000000   \n",
       "50%    1.941018e+07  3.052348e+07     40.721710    -73.954570    100.000000   \n",
       "75%    2.891999e+07  1.048749e+08     40.763220    -73.934430    160.000000   \n",
       "max    3.648561e+07  2.742733e+08     40.913060    -73.717950    350.000000   \n",
       "\n",
       "       minimum_nights  number_of_reviews  reviews_per_month  \\\n",
       "count    18935.000000       18935.000000       15207.000000   \n",
       "mean         6.034117          23.840665           1.383227   \n",
       "std          9.805422          45.508643           1.690770   \n",
       "min          1.000000           0.000000           0.010000   \n",
       "25%          1.000000           1.000000           0.190000   \n",
       "50%          2.000000           6.000000           0.730000   \n",
       "75%          5.000000          24.000000           2.010000   \n",
       "max        100.000000         607.000000          27.950000   \n",
       "\n",
       "       calculated_host_listings_count  availability_365  \n",
       "count                    18935.000000      18935.000000  \n",
       "mean                         6.570372        109.370848  \n",
       "std                         31.120172        130.410700  \n",
       "min                          1.000000          0.000000  \n",
       "25%                          1.000000          0.000000  \n",
       "50%                          1.000000         39.000000  \n",
       "75%                          2.000000        218.000000  \n",
       "max                        327.000000        365.000000  "
      ]
     },
     "execution_count": 8,
     "metadata": {},
     "output_type": "execute_result"
    }
   ],
   "source": [
    "df.describe()"
   ]
  },
  {
   "cell_type": "code",
   "execution_count": 9,
   "id": "68a5cc1e",
   "metadata": {},
   "outputs": [
    {
     "data": {
      "text/html": [
       "<br/>Waiting for W&B process to finish, PID 6365<br/>Program ended successfully."
      ],
      "text/plain": [
       "<IPython.core.display.HTML object>"
      ]
     },
     "metadata": {},
     "output_type": "display_data"
    },
    {
     "data": {
      "application/vnd.jupyter.widget-view+json": {
       "model_id": "",
       "version_major": 2,
       "version_minor": 0
      },
      "text/plain": [
       "VBox(children=(Label(value=' 0.06MB of 0.06MB uploaded (0.00MB deduped)\\r'), FloatProgress(value=1.0, max=1.0)…"
      ]
     },
     "metadata": {},
     "output_type": "display_data"
    },
    {
     "data": {
      "text/html": [
       "Find user logs for this run at: <code>/home/megan/projects/nd0821-c2-build-model-workflow-starter/src/eda/wandb/run-20210901_193442-1iud27x2/logs/debug.log</code>"
      ],
      "text/plain": [
       "<IPython.core.display.HTML object>"
      ]
     },
     "metadata": {},
     "output_type": "display_data"
    },
    {
     "data": {
      "text/html": [
       "Find internal logs for this run at: <code>/home/megan/projects/nd0821-c2-build-model-workflow-starter/src/eda/wandb/run-20210901_193442-1iud27x2/logs/debug-internal.log</code>"
      ],
      "text/plain": [
       "<IPython.core.display.HTML object>"
      ]
     },
     "metadata": {},
     "output_type": "display_data"
    },
    {
     "data": {
      "text/html": [
       "Synced 6 W&B file(s), 0 media file(s), 4 artifact file(s) and 1 other file(s)"
      ],
      "text/plain": [
       "<IPython.core.display.HTML object>"
      ]
     },
     "metadata": {},
     "output_type": "display_data"
    },
    {
     "data": {
      "text/html": [
       "\n",
       "                    <br/>Synced <strong style=\"color:#cdcd00\">crimson-water-3</strong>: <a href=\"https://wandb.ai/frizzles7/nyc_airbnb/runs/1iud27x2\" target=\"_blank\">https://wandb.ai/frizzles7/nyc_airbnb/runs/1iud27x2</a><br/>\n",
       "                "
      ],
      "text/plain": [
       "<IPython.core.display.HTML object>"
      ]
     },
     "metadata": {},
     "output_type": "display_data"
    }
   ],
   "source": [
    "# finish the run\n",
    "run.finish()"
   ]
  },
  {
   "cell_type": "code",
   "execution_count": null,
   "id": "9c94cc39",
   "metadata": {},
   "outputs": [],
   "source": []
  }
 ],
 "metadata": {
  "kernelspec": {
   "display_name": "Python 3 (ipykernel)",
   "language": "python",
   "name": "python3"
  },
  "language_info": {
   "codemirror_mode": {
    "name": "ipython",
    "version": 3
   },
   "file_extension": ".py",
   "mimetype": "text/x-python",
   "name": "python",
   "nbconvert_exporter": "python",
   "pygments_lexer": "ipython3",
   "version": "3.9.6"
  }
 },
 "nbformat": 4,
 "nbformat_minor": 5
}
